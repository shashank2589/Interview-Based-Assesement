{
 "cells": [
  {
   "cell_type": "code",
   "execution_count": 8,
   "metadata": {},
   "outputs": [
    {
     "name": "stdout",
     "output_type": "stream",
     "text": [
      "Data downloaded and converted to Excel successfully!\n"
     ]
    }
   ],
   "source": [
    "import requests\n",
    "import pandas as pd\n",
    "\n",
    "def download_and_convert_to_excel(url, excel_file_path):\n",
    "    # Download the data from the provided link\n",
    "    result = requests.get(url)\n",
    "    data = result.json()\n",
    "\n",
    "    # Extract the relevant information from the data\n",
    "    pokemon_list = data['pokemon']\n",
    "\n",
    "    # Create a DataFrame to store the structured data\n",
    "    df = pd.DataFrame(pokemon_list)\n",
    "\n",
    "    # Convert the DataFrame to Excel format and save it to a file\n",
    "    df.to_excel(excel_file_path, index=False)\n",
    "\n",
    "    print(\"Data downloaded and converted to Excel successfully!\")\n",
    "\n",
    "\n",
    "# Specify the link and the file path for the Excel output\n",
    "url = \"https://raw.githubusercontent.com/Biuni/PokemonGO-Pokedex/master/pokedex.json\"\n",
    "excel_file_path = \"pokemon_data_file.xlsx\"\n",
    "\n",
    "# Call the function to download and convert the data\n",
    "download_and_convert_to_excel(url, excel_file_path)\n",
    "\n"
   ]
  },
  {
   "cell_type": "code",
   "execution_count": null,
   "metadata": {},
   "outputs": [],
   "source": []
  }
 ],
 "metadata": {
  "kernelspec": {
   "display_name": "base",
   "language": "python",
   "name": "python3"
  },
  "language_info": {
   "codemirror_mode": {
    "name": "ipython",
    "version": 3
   },
   "file_extension": ".py",
   "mimetype": "text/x-python",
   "name": "python",
   "nbconvert_exporter": "python",
   "pygments_lexer": "ipython3",
   "version": "3.9.12"
  },
  "orig_nbformat": 4
 },
 "nbformat": 4,
 "nbformat_minor": 2
}
