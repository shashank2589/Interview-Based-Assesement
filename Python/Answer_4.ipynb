{
 "cells": [
  {
   "cell_type": "code",
   "execution_count": null,
   "metadata": {},
   "outputs": [],
   "source": [
    "import requests\n",
    "import pandas as pd\n",
    "\n",
    "def download_and_convert_to_csv(url, csv_file_path):\n",
    "    # Download the data from the provided link\n",
    "    result = requests.get(url)\n",
    "    data = result.json()\n",
    "\n",
    "    # Create a DataFrame to store the structured data\n",
    "    df = pd.DataFrame(data)\n",
    "\n",
    "    # Convert the DataFrame to CSV format and save it to a file\n",
    "    df.to_csv(csv_file_path, index=False)\n",
    "\n",
    "    print(\"Data downloaded and converted to CSV successfully!\")\n",
    "\n",
    "\n",
    "# Specify the link and the file path for the CSV output\n",
    "url = \"https://data.nasa.gov/resource/y77d-th95.json\"\n",
    "csv_file_path = \"nasa_data_file.xlsx\"\n",
    "\n",
    "# Call the function to download and convert the data\n",
    "download_and_convert_to_csv(url, csv_file_path)"
   ]
  }
 ],
 "metadata": {
  "kernelspec": {
   "display_name": "base",
   "language": "python",
   "name": "python3"
  },
  "language_info": {
   "codemirror_mode": {
    "name": "ipython",
    "version": 3
   },
   "file_extension": ".py",
   "mimetype": "text/x-python",
   "name": "python",
   "nbconvert_exporter": "python",
   "pygments_lexer": "ipython3",
   "version": "3.9.12"
  },
  "orig_nbformat": 4
 },
 "nbformat": 4,
 "nbformat_minor": 2
}
