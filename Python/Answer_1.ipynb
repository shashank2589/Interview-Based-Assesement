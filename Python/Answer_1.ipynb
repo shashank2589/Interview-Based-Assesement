{
 "cells": [
  {
   "cell_type": "code",
   "execution_count": 1,
   "metadata": {},
   "outputs": [],
   "source": [
    "def highest_frequency_word_length(input_str):\n",
    "    # Convert input string to lowercase and remove punctuation\n",
    "    input_str = input_str.lower().replace(\",\", \"\").replace(\".\", \"\")\n",
    "\n",
    "    # Split the string into words\n",
    "    words = input_str.split()\n",
    "\n",
    "    # Create a dictionary to store word frequencies\n",
    "    frequency = {}\n",
    "\n",
    "    # Count the frequency of each word\n",
    "    for word in words:\n",
    "        if word in frequency:\n",
    "            frequency[word] += 1\n",
    "        else:\n",
    "            frequency[word] = 1\n",
    "\n",
    "    # Find the word with the highest frequency\n",
    "    highest_frequency = 0\n",
    "    highest_frequency_word = \"\"\n",
    "\n",
    "    for word in frequency:\n",
    "        if frequency[word] > highest_frequency:\n",
    "            highest_frequency = frequency[word]\n",
    "            highest_frequency_word = word\n",
    "\n",
    "    # Print the highest-frequency word\n",
    "    print(f\"Highest frequency word is : {highest_frequency_word} \")\n",
    "\n",
    "    # Return the length of the highest-frequency word\n",
    "    return len(highest_frequency_word)\n",
    "\n"
   ]
  },
  {
   "cell_type": "code",
   "execution_count": 2,
   "metadata": {},
   "outputs": [
    {
     "name": "stdout",
     "output_type": "stream",
     "text": [
      "Highest frequency word is : over \n",
      "Length of highest frequency word is : 4\n"
     ]
    }
   ],
   "source": [
    "\n",
    "# Test Case -1\n",
    "input_str = \"I have failed over and over and over again in my life. And that is why I succeed.\"\n",
    "result = highest_frequency_word_length(input_str)\n",
    "print(f\"Length of highest frequency word is : {result}\")"
   ]
  },
  {
   "attachments": {},
   "cell_type": "markdown",
   "metadata": {},
   "source": [
    "In this test case, the word \"over\" appears three times, while the other words appear once or twice. The word \"over\" has the highest frequency, so the program should return the length of \"over\" as the result, which is 4."
   ]
  },
  {
   "cell_type": "code",
   "execution_count": 3,
   "metadata": {},
   "outputs": [
    {
     "name": "stdout",
     "output_type": "stream",
     "text": [
      "Highest frequency word is : control \n",
      "Length of highest frequency word is : 7\n"
     ]
    }
   ],
   "source": [
    "# Test Case -2\n",
    "input_str = \"Control, control, you must learn control\"\n",
    "result = highest_frequency_word_length(input_str)\n",
    "print(f\"Length of highest frequency word is : {result}\")"
   ]
  },
  {
   "attachments": {},
   "cell_type": "markdown",
   "metadata": {},
   "source": [
    "In this test case, the word \"control\" appears three times, while the other words appear once. The word \"control\" has the highest frequency, so the program should return the length of \"control\" as the result, which is 7."
   ]
  },
  {
   "cell_type": "code",
   "execution_count": null,
   "metadata": {},
   "outputs": [],
   "source": []
  },
  {
   "cell_type": "code",
   "execution_count": null,
   "metadata": {},
   "outputs": [],
   "source": []
  }
 ],
 "metadata": {
  "kernelspec": {
   "display_name": "base",
   "language": "python",
   "name": "python3"
  },
  "language_info": {
   "codemirror_mode": {
    "name": "ipython",
    "version": 3
   },
   "file_extension": ".py",
   "mimetype": "text/x-python",
   "name": "python",
   "nbconvert_exporter": "python",
   "pygments_lexer": "ipython3",
   "version": "3.9.12"
  },
  "orig_nbformat": 4
 },
 "nbformat": 4,
 "nbformat_minor": 2
}
