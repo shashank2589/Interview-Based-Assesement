{
 "cells": [
  {
   "cell_type": "code",
   "execution_count": 8,
   "metadata": {},
   "outputs": [],
   "source": [
    "def check_valid_string(input_str):\n",
    "    # Create a dictionary to store characters frequencies\n",
    "    frequency = {}\n",
    "\n",
    "    # Update character counts in the frequency dictionary\n",
    "    for character in input_str:\n",
    "        if character in frequency:\n",
    "            frequency[character] += 1\n",
    "        else:\n",
    "            frequency[character] = 1\n",
    "\n",
    "    # Find maximum count and minimum count\n",
    "    max_value = max(frequency.values())\n",
    "    min_value = min(frequency.values())\n",
    "    print(frequency)\n",
    "\n",
    "    # Check validity conditions\n",
    "    if max_value == min_value:\n",
    "        return \"YES\"\n",
    "    elif max_value-min_value == 1:\n",
    "        print(\"It's also valid if we can remove just one character at the index in the string, and the remaining characters will occur the same number of times\")\n",
    "        return \"YES\"\n",
    "    else:\n",
    "        return \"NO\"\n",
    "    \n"
   ]
  },
  {
   "cell_type": "code",
   "execution_count": 9,
   "metadata": {},
   "outputs": [
    {
     "name": "stdout",
     "output_type": "stream",
     "text": [
      "{'l': 2, 'e': 2, 'v': 1}\n",
      "It's also valid if we can remove just one character at the index in the string, and the remaining characters will occur the same number of times\n",
      "YES\n"
     ]
    }
   ],
   "source": [
    "\n",
    "# Test Case -1\n",
    "input_str = input(\"Enter a string: \")\n",
    "result = check_valid_string(input_str)\n",
    "print(result)"
   ]
  },
  {
   "attachments": {},
   "cell_type": "markdown",
   "metadata": {},
   "source": [
    "In the test case-1, the input string is \"level\", and the function returns \"YES\" since we can remove one of the characters 'v' to make all characters appear the same number of times."
   ]
  },
  {
   "cell_type": "code",
   "execution_count": 10,
   "metadata": {},
   "outputs": [
    {
     "name": "stdout",
     "output_type": "stream",
     "text": [
      "{'h': 2, 'a': 2, 'n': 2}\n",
      "YES\n"
     ]
    }
   ],
   "source": [
    "# Test Case -2\n",
    "input_str = input(\"Enter a string: \")\n",
    "result = check_valid_string(input_str)\n",
    "print(result)"
   ]
  },
  {
   "attachments": {},
   "cell_type": "markdown",
   "metadata": {},
   "source": [
    "In the test case-2, the input string is \"hannah\", and the function returns \"YES\" since all characters of the string appear the same number of times."
   ]
  },
  {
   "cell_type": "code",
   "execution_count": 11,
   "metadata": {},
   "outputs": [
    {
     "name": "stdout",
     "output_type": "stream",
     "text": [
      "{'a': 1, 'b': 3, 'c': 1}\n",
      "NO\n"
     ]
    }
   ],
   "source": [
    "# Test Case -3\n",
    "input_str = input(\"Enter a string: \")\n",
    "result = check_valid_string(input_str)\n",
    "print(result)"
   ]
  },
  {
   "attachments": {},
   "cell_type": "markdown",
   "metadata": {},
   "source": [
    "In the test case-3, the input string is \"abbbc\", and the function returns \"NO\" since removing one of the characters doesn't make all characters appear the same number of times."
   ]
  },
  {
   "cell_type": "code",
   "execution_count": null,
   "metadata": {},
   "outputs": [],
   "source": []
  }
 ],
 "metadata": {
  "kernelspec": {
   "display_name": "base",
   "language": "python",
   "name": "python3"
  },
  "language_info": {
   "codemirror_mode": {
    "name": "ipython",
    "version": 3
   },
   "file_extension": ".py",
   "mimetype": "text/x-python",
   "name": "python",
   "nbconvert_exporter": "python",
   "pygments_lexer": "ipython3",
   "version": "3.9.12"
  },
  "orig_nbformat": 4
 },
 "nbformat": 4,
 "nbformat_minor": 2
}
